{
 "cells": [
  {
   "cell_type": "markdown",
   "metadata": {},
   "source": [
    "## Hiragana\n",
    "use CNN to learn and recognize hiraggana"
   ]
  },
  {
   "cell_type": "code",
   "execution_count": 318,
   "metadata": {},
   "outputs": [
    {
     "data": {
      "text/plain": [
       "'2.7.0'"
      ]
     },
     "execution_count": 318,
     "metadata": {},
     "output_type": "execute_result"
    }
   ],
   "source": [
    "import tensorflow\n",
    "tensorflow.__version__\n"
   ]
  },
  {
   "cell_type": "code",
   "execution_count": 319,
   "metadata": {},
   "outputs": [],
   "source": [
    "import matplotlib.pyplot as plt\n",
    "import numpy as np\n",
    "import cv2 as cv\n",
    "\n",
    "from sklearn.model_selection import train_test_split\n",
    "\n",
    "from keras.models import Sequential\n",
    "from keras.layers.core import Dense, Dropout, Activation\n",
    "# from keras.optimizers import RMSprop\n",
    "from tensorflow.keras.optimizers import RMSprop\n",
    "from keras.utils import np_utils\n",
    "\n",
    "#for CNN model\n",
    "from keras.layers import Flatten\n",
    "from keras.layers import Conv2D, MaxPooling2D\n"
   ]
  },
  {
   "cell_type": "markdown",
   "metadata": {},
   "source": [
    "Import and organize data"
   ]
  },
  {
   "cell_type": "code",
   "execution_count": 320,
   "metadata": {},
   "outputs": [],
   "source": [
    "## import data\n",
    "img_test = cv.imread(\"hiragana-dataset-master/hiragana_images/kanaBA0.jpg\", cv.IMREAD_GRAYSCALE)\n",
    "(img_rows, img_cols) = img_test.shape\n"
   ]
  },
  {
   "cell_type": "code",
   "execution_count": 321,
   "metadata": {},
   "outputs": [],
   "source": [
    "## extract the romanji from a filename\n",
    "import re\n",
    "# hiragana-dataset-master/hiragana_images/kanaBA0.jpg\n",
    "def get_romanji(filename):\n",
    "    keyword = re.search(r'kana(\\w+?)\\d+', filename).group(1)\n",
    "    return keyword.lower()\n"
   ]
  },
  {
   "cell_type": "code",
   "execution_count": 322,
   "metadata": {},
   "outputs": [
    {
     "data": {
      "text/html": [
       "<div>\n",
       "<style scoped>\n",
       "    .dataframe tbody tr th:only-of-type {\n",
       "        vertical-align: middle;\n",
       "    }\n",
       "\n",
       "    .dataframe tbody tr th {\n",
       "        vertical-align: top;\n",
       "    }\n",
       "\n",
       "    .dataframe thead th {\n",
       "        text-align: right;\n",
       "    }\n",
       "</style>\n",
       "<table border=\"1\" class=\"dataframe\">\n",
       "  <thead>\n",
       "    <tr style=\"text-align: right;\">\n",
       "      <th></th>\n",
       "      <th>Handwriting</th>\n",
       "      <th>Filename</th>\n",
       "      <th>Romanji</th>\n",
       "    </tr>\n",
       "  </thead>\n",
       "  <tbody>\n",
       "    <tr>\n",
       "      <th>0</th>\n",
       "      <td>[[0, 0, 0, 0, 0, 0, 0, 0, 0, 0, 0, 0, 0, 0, 0,...</td>\n",
       "      <td>kanaA0.jpg</td>\n",
       "      <td>a</td>\n",
       "    </tr>\n",
       "    <tr>\n",
       "      <th>1</th>\n",
       "      <td>[[0, 0, 0, 0, 0, 0, 0, 0, 0, 0, 0, 0, 0, 0, 0,...</td>\n",
       "      <td>kanaA1.jpg</td>\n",
       "      <td>a</td>\n",
       "    </tr>\n",
       "    <tr>\n",
       "      <th>2</th>\n",
       "      <td>[[0, 0, 0, 0, 0, 0, 0, 0, 0, 0, 0, 0, 0, 0, 0,...</td>\n",
       "      <td>kanaA10.jpg</td>\n",
       "      <td>a</td>\n",
       "    </tr>\n",
       "    <tr>\n",
       "      <th>3</th>\n",
       "      <td>[[0, 0, 0, 0, 0, 0, 0, 0, 0, 0, 0, 0, 0, 0, 0,...</td>\n",
       "      <td>kanaA11.jpg</td>\n",
       "      <td>a</td>\n",
       "    </tr>\n",
       "    <tr>\n",
       "      <th>4</th>\n",
       "      <td>[[0, 0, 0, 0, 0, 0, 0, 0, 0, 0, 0, 0, 0, 0, 0,...</td>\n",
       "      <td>kanaA12.jpg</td>\n",
       "      <td>a</td>\n",
       "    </tr>\n",
       "    <tr>\n",
       "      <th>...</th>\n",
       "      <td>...</td>\n",
       "      <td>...</td>\n",
       "      <td>...</td>\n",
       "    </tr>\n",
       "    <tr>\n",
       "      <th>995</th>\n",
       "      <td>[[0, 0, 0, 0, 0, 0, 0, 0, 0, 0, 0, 0, 0, 0, 0,...</td>\n",
       "      <td>kanaYU5.jpg</td>\n",
       "      <td>yu</td>\n",
       "    </tr>\n",
       "    <tr>\n",
       "      <th>996</th>\n",
       "      <td>[[0, 0, 0, 0, 0, 0, 0, 0, 0, 0, 0, 0, 0, 0, 0,...</td>\n",
       "      <td>kanaYU6.jpg</td>\n",
       "      <td>yu</td>\n",
       "    </tr>\n",
       "    <tr>\n",
       "      <th>997</th>\n",
       "      <td>[[0, 0, 0, 0, 0, 0, 0, 0, 0, 0, 0, 0, 0, 0, 0,...</td>\n",
       "      <td>kanaYU7.jpg</td>\n",
       "      <td>yu</td>\n",
       "    </tr>\n",
       "    <tr>\n",
       "      <th>998</th>\n",
       "      <td>[[0, 0, 0, 0, 0, 0, 0, 0, 0, 0, 0, 0, 0, 0, 0,...</td>\n",
       "      <td>kanaYU8.jpg</td>\n",
       "      <td>yu</td>\n",
       "    </tr>\n",
       "    <tr>\n",
       "      <th>999</th>\n",
       "      <td>[[0, 0, 0, 0, 0, 0, 0, 0, 0, 0, 0, 0, 0, 0, 0,...</td>\n",
       "      <td>kanaYU9.jpg</td>\n",
       "      <td>yu</td>\n",
       "    </tr>\n",
       "  </tbody>\n",
       "</table>\n",
       "<p>1000 rows × 3 columns</p>\n",
       "</div>"
      ],
      "text/plain": [
       "                                           Handwriting     Filename Romanji\n",
       "0    [[0, 0, 0, 0, 0, 0, 0, 0, 0, 0, 0, 0, 0, 0, 0,...   kanaA0.jpg       a\n",
       "1    [[0, 0, 0, 0, 0, 0, 0, 0, 0, 0, 0, 0, 0, 0, 0,...   kanaA1.jpg       a\n",
       "2    [[0, 0, 0, 0, 0, 0, 0, 0, 0, 0, 0, 0, 0, 0, 0,...  kanaA10.jpg       a\n",
       "3    [[0, 0, 0, 0, 0, 0, 0, 0, 0, 0, 0, 0, 0, 0, 0,...  kanaA11.jpg       a\n",
       "4    [[0, 0, 0, 0, 0, 0, 0, 0, 0, 0, 0, 0, 0, 0, 0,...  kanaA12.jpg       a\n",
       "..                                                 ...          ...     ...\n",
       "995  [[0, 0, 0, 0, 0, 0, 0, 0, 0, 0, 0, 0, 0, 0, 0,...  kanaYU5.jpg      yu\n",
       "996  [[0, 0, 0, 0, 0, 0, 0, 0, 0, 0, 0, 0, 0, 0, 0,...  kanaYU6.jpg      yu\n",
       "997  [[0, 0, 0, 0, 0, 0, 0, 0, 0, 0, 0, 0, 0, 0, 0,...  kanaYU7.jpg      yu\n",
       "998  [[0, 0, 0, 0, 0, 0, 0, 0, 0, 0, 0, 0, 0, 0, 0,...  kanaYU8.jpg      yu\n",
       "999  [[0, 0, 0, 0, 0, 0, 0, 0, 0, 0, 0, 0, 0, 0, 0,...  kanaYU9.jpg      yu\n",
       "\n",
       "[1000 rows x 3 columns]"
      ]
     },
     "execution_count": 322,
     "metadata": {},
     "output_type": "execute_result"
    }
   ],
   "source": [
    "## import data into a list\n",
    "## construct datatable\n",
    "import os\n",
    "import pandas as pd\n",
    "\n",
    "handwriting_list = []\n",
    "dir_name = \"hiragana-dataset-master/hiragana_images\"\n",
    "# os.listdir(dir_name)\n",
    "for filename in os.listdir(dir_name):\n",
    "    # print(f\"{dir_name}/f{filename}.jpg\")\n",
    "    picture_label_list = [cv.imread(f\"{dir_name}/{filename}\", cv.IMREAD_GRAYSCALE), filename, get_romanji(filename)]\n",
    "    handwriting_list.append(picture_label_list)\n",
    "# print(handwriting_list)\n",
    "\n",
    "handwriting_table = pd.DataFrame(handwriting_list, columns=[\"Handwriting\", \"Filename\", \"Romanji\"])\n",
    "handwriting_table"
   ]
  },
  {
   "cell_type": "code",
   "execution_count": 324,
   "metadata": {},
   "outputs": [
    {
     "data": {
      "text/html": [
       "<div>\n",
       "<style scoped>\n",
       "    .dataframe tbody tr th:only-of-type {\n",
       "        vertical-align: middle;\n",
       "    }\n",
       "\n",
       "    .dataframe tbody tr th {\n",
       "        vertical-align: top;\n",
       "    }\n",
       "\n",
       "    .dataframe thead th {\n",
       "        text-align: right;\n",
       "    }\n",
       "</style>\n",
       "<table border=\"1\" class=\"dataframe\">\n",
       "  <thead>\n",
       "    <tr style=\"text-align: right;\">\n",
       "      <th></th>\n",
       "      <th>Handwriting</th>\n",
       "      <th>Filename</th>\n",
       "      <th>Romanji</th>\n",
       "      <th>Label</th>\n",
       "    </tr>\n",
       "  </thead>\n",
       "  <tbody>\n",
       "    <tr>\n",
       "      <th>0</th>\n",
       "      <td>[[0, 0, 0, 0, 0, 0, 0, 0, 0, 0, 0, 0, 0, 0, 0,...</td>\n",
       "      <td>kanaA0.jpg</td>\n",
       "      <td>a</td>\n",
       "      <td>14</td>\n",
       "    </tr>\n",
       "    <tr>\n",
       "      <th>1</th>\n",
       "      <td>[[0, 0, 0, 0, 0, 0, 0, 0, 0, 0, 0, 0, 0, 0, 0,...</td>\n",
       "      <td>kanaA1.jpg</td>\n",
       "      <td>a</td>\n",
       "      <td>14</td>\n",
       "    </tr>\n",
       "    <tr>\n",
       "      <th>2</th>\n",
       "      <td>[[0, 0, 0, 0, 0, 0, 0, 0, 0, 0, 0, 0, 0, 0, 0,...</td>\n",
       "      <td>kanaA10.jpg</td>\n",
       "      <td>a</td>\n",
       "      <td>14</td>\n",
       "    </tr>\n",
       "    <tr>\n",
       "      <th>3</th>\n",
       "      <td>[[0, 0, 0, 0, 0, 0, 0, 0, 0, 0, 0, 0, 0, 0, 0,...</td>\n",
       "      <td>kanaA11.jpg</td>\n",
       "      <td>a</td>\n",
       "      <td>14</td>\n",
       "    </tr>\n",
       "    <tr>\n",
       "      <th>4</th>\n",
       "      <td>[[0, 0, 0, 0, 0, 0, 0, 0, 0, 0, 0, 0, 0, 0, 0,...</td>\n",
       "      <td>kanaA12.jpg</td>\n",
       "      <td>a</td>\n",
       "      <td>14</td>\n",
       "    </tr>\n",
       "    <tr>\n",
       "      <th>...</th>\n",
       "      <td>...</td>\n",
       "      <td>...</td>\n",
       "      <td>...</td>\n",
       "      <td>...</td>\n",
       "    </tr>\n",
       "    <tr>\n",
       "      <th>995</th>\n",
       "      <td>[[0, 0, 0, 0, 0, 0, 0, 0, 0, 0, 0, 0, 0, 0, 0,...</td>\n",
       "      <td>kanaYU5.jpg</td>\n",
       "      <td>yu</td>\n",
       "      <td>8</td>\n",
       "    </tr>\n",
       "    <tr>\n",
       "      <th>996</th>\n",
       "      <td>[[0, 0, 0, 0, 0, 0, 0, 0, 0, 0, 0, 0, 0, 0, 0,...</td>\n",
       "      <td>kanaYU6.jpg</td>\n",
       "      <td>yu</td>\n",
       "      <td>8</td>\n",
       "    </tr>\n",
       "    <tr>\n",
       "      <th>997</th>\n",
       "      <td>[[0, 0, 0, 0, 0, 0, 0, 0, 0, 0, 0, 0, 0, 0, 0,...</td>\n",
       "      <td>kanaYU7.jpg</td>\n",
       "      <td>yu</td>\n",
       "      <td>8</td>\n",
       "    </tr>\n",
       "    <tr>\n",
       "      <th>998</th>\n",
       "      <td>[[0, 0, 0, 0, 0, 0, 0, 0, 0, 0, 0, 0, 0, 0, 0,...</td>\n",
       "      <td>kanaYU8.jpg</td>\n",
       "      <td>yu</td>\n",
       "      <td>8</td>\n",
       "    </tr>\n",
       "    <tr>\n",
       "      <th>999</th>\n",
       "      <td>[[0, 0, 0, 0, 0, 0, 0, 0, 0, 0, 0, 0, 0, 0, 0,...</td>\n",
       "      <td>kanaYU9.jpg</td>\n",
       "      <td>yu</td>\n",
       "      <td>8</td>\n",
       "    </tr>\n",
       "  </tbody>\n",
       "</table>\n",
       "<p>1000 rows × 4 columns</p>\n",
       "</div>"
      ],
      "text/plain": [
       "                                           Handwriting     Filename Romanji  \\\n",
       "0    [[0, 0, 0, 0, 0, 0, 0, 0, 0, 0, 0, 0, 0, 0, 0,...   kanaA0.jpg       a   \n",
       "1    [[0, 0, 0, 0, 0, 0, 0, 0, 0, 0, 0, 0, 0, 0, 0,...   kanaA1.jpg       a   \n",
       "2    [[0, 0, 0, 0, 0, 0, 0, 0, 0, 0, 0, 0, 0, 0, 0,...  kanaA10.jpg       a   \n",
       "3    [[0, 0, 0, 0, 0, 0, 0, 0, 0, 0, 0, 0, 0, 0, 0,...  kanaA11.jpg       a   \n",
       "4    [[0, 0, 0, 0, 0, 0, 0, 0, 0, 0, 0, 0, 0, 0, 0,...  kanaA12.jpg       a   \n",
       "..                                                 ...          ...     ...   \n",
       "995  [[0, 0, 0, 0, 0, 0, 0, 0, 0, 0, 0, 0, 0, 0, 0,...  kanaYU5.jpg      yu   \n",
       "996  [[0, 0, 0, 0, 0, 0, 0, 0, 0, 0, 0, 0, 0, 0, 0,...  kanaYU6.jpg      yu   \n",
       "997  [[0, 0, 0, 0, 0, 0, 0, 0, 0, 0, 0, 0, 0, 0, 0,...  kanaYU7.jpg      yu   \n",
       "998  [[0, 0, 0, 0, 0, 0, 0, 0, 0, 0, 0, 0, 0, 0, 0,...  kanaYU8.jpg      yu   \n",
       "999  [[0, 0, 0, 0, 0, 0, 0, 0, 0, 0, 0, 0, 0, 0, 0,...  kanaYU9.jpg      yu   \n",
       "\n",
       "     Label  \n",
       "0       14  \n",
       "1       14  \n",
       "2       14  \n",
       "3       14  \n",
       "4       14  \n",
       "..     ...  \n",
       "995      8  \n",
       "996      8  \n",
       "997      8  \n",
       "998      8  \n",
       "999      8  \n",
       "\n",
       "[1000 rows x 4 columns]"
      ]
     },
     "execution_count": 324,
     "metadata": {},
     "output_type": "execute_result"
    }
   ],
   "source": [
    "## add labels to the datatable w.r.t. the romanji\n",
    "def romanji_to_dict(S): # construct dict from Romanji series\n",
    "    romanji_list = list(set(S))\n",
    "    romanji_dict = {}\n",
    "    for i, romanji in enumerate(romanji_list):\n",
    "        romanji_dict[romanji] = i\n",
    "    return romanji_dict\n",
    "\n",
    "romanji_dict = romanji_to_dict(handwriting_table[\"Romanji\"])\n",
    "romanji_categories = len(romanji_dict)\n",
    "handwriting_table[\"Label\"] = handwriting_table[\"Romanji\"].map(lambda x: romanji_dict[x])\n",
    "handwriting_table"
   ]
  },
  {
   "cell_type": "code",
   "execution_count": 334,
   "metadata": {},
   "outputs": [
    {
     "data": {
      "text/plain": [
       "(1000, 84, 83, 1)"
      ]
     },
     "execution_count": 334,
     "metadata": {},
     "output_type": "execute_result"
    }
   ],
   "source": [
    "## construct X and y data from data-table\n",
    "X = handwriting_table[\"Handwriting\"].to_numpy()\n",
    "y = handwriting_table[\"Label\"].to_numpy()\n",
    "# X = X.reshape(X.shape[0], img_rows, img_cols, 1)\n",
    "X = np.array([X[i].reshape(img_rows, img_cols) for i in range(X.shape[0])])\n",
    "X = X.reshape(X.shape[0], img_rows, img_cols, 1)\n",
    "X.shape"
   ]
  },
  {
   "cell_type": "code",
   "execution_count": 335,
   "metadata": {},
   "outputs": [
    {
     "data": {
      "text/plain": [
       "(800, 84, 83, 1)"
      ]
     },
     "execution_count": 335,
     "metadata": {},
     "output_type": "execute_result"
    }
   ],
   "source": [
    "## split the data into training and testing data\n",
    "X_train, X_test, y_train, y_test = train_test_split(X, y, test_size=0.2) #shuffle=True\n",
    "Y_train = np_utils.to_categorical(y_train, romanji_categories)\n",
    "Y_test = np_utils.to_categorical(y_test, romanji_categories)\n",
    "X_train.shape"
   ]
  },
  {
   "cell_type": "markdown",
   "metadata": {},
   "source": [
    "# Standardization\n",
    "standardize the strength of each pixel from 0-255 to 0-1"
   ]
  },
  {
   "cell_type": "code",
   "execution_count": 336,
   "metadata": {},
   "outputs": [],
   "source": [
    "## standardize X_train and X_test\n",
    "def std_X(X):\n",
    "    X = X.astype('float32') / 255\n",
    "    return X\n",
    "\n",
    "X_train = std_X(X_train)\n",
    "X_test = std_X(X_test)"
   ]
  },
  {
   "cell_type": "markdown",
   "metadata": {},
   "source": [
    "# CNN Model\n",
    "construct a CNN model"
   ]
  },
  {
   "cell_type": "code",
   "execution_count": 337,
   "metadata": {},
   "outputs": [
    {
     "name": "stdout",
     "output_type": "stream",
     "text": [
      "model.summary:\n",
      "Model: \"sequential_12\"\n",
      "_________________________________________________________________\n",
      " Layer (type)                Output Shape              Param #   \n",
      "=================================================================\n",
      " conv2d_23 (Conv2D)          (None, 84, 83, 32)        320       \n",
      "                                                                 \n",
      " conv2d_24 (Conv2D)          (None, 84, 83, 64)        18496     \n",
      "                                                                 \n",
      " max_pooling2d_11 (MaxPoolin  (None, 42, 41, 64)       0         \n",
      " g2D)                                                            \n",
      "                                                                 \n",
      " dropout_20 (Dropout)        (None, 42, 41, 64)        0         \n",
      "                                                                 \n",
      " flatten_10 (Flatten)        (None, 110208)            0         \n",
      "                                                                 \n",
      " dense_20 (Dense)            (None, 128)               14106752  \n",
      "                                                                 \n",
      " dropout_21 (Dropout)        (None, 128)               0         \n",
      "                                                                 \n",
      " dense_21 (Dense)            (None, 50)                6450      \n",
      "                                                                 \n",
      "=================================================================\n",
      "Total params: 14,132,018\n",
      "Trainable params: 14,132,018\n",
      "Non-trainable params: 0\n",
      "_________________________________________________________________\n"
     ]
    }
   ],
   "source": [
    "input_shape = (img_rows, img_cols, 1)\n",
    "\n",
    "model = Sequential()\n",
    "model.add(Conv2D(32, kernel_size=(3, 3),\n",
    "                 activation='relu',padding='same',\n",
    "                 input_shape=input_shape))\n",
    "model.add(Conv2D(64, (3, 3),padding='same', activation='relu'))\n",
    "model.add(MaxPooling2D(pool_size=(2, 2)))\n",
    "model.add(Dropout(0.25))\n",
    "model.add(Flatten())\n",
    "model.add(Dense(128, activation='relu'))\n",
    "model.add(Dropout(0.5))\n",
    "model.add(Dense(romanji_categories, activation='softmax'))\n",
    "\n",
    "print('model.summary:')\n",
    "model.summary()\n",
    "\n",
    "model.compile(loss='categorical_crossentropy',\n",
    "              optimizer=RMSprop(),\n",
    "              metrics=['accuracy'])"
   ]
  },
  {
   "cell_type": "markdown",
   "metadata": {},
   "source": [
    "# Augmentation\n",
    "Use the augmentation to generate more data from the training data.\n",
    "Use rotate, height transform, width transform to simulate all kinds of handwritings"
   ]
  },
  {
   "cell_type": "code",
   "execution_count": 338,
   "metadata": {},
   "outputs": [],
   "source": [
    "from keras.preprocessing.image import ImageDataGenerator\n",
    "\n",
    "# Range for picking a value from.\n",
    "datagen = ImageDataGenerator(\n",
    "    rotation_range=5,\n",
    "    width_shift_range=0.1,\n",
    "    height_shift_range=0.1,\n",
    "    # shear_range=0.1,\n",
    "    zoom_range=0.1,\n",
    "    fill_mode='nearest',\n",
    "    validation_split=0.2)\n"
   ]
  },
  {
   "cell_type": "code",
   "execution_count": 339,
   "metadata": {},
   "outputs": [
    {
     "name": "stdout",
     "output_type": "stream",
     "text": [
      "Epoch 1/32\n",
      "20/20 [==============================] - 10s 455ms/step - loss: 4.0023 - accuracy: 0.0500 - val_loss: 3.5819 - val_accuracy: 0.1875\n",
      "Epoch 2/32\n",
      "20/20 [==============================] - 9s 458ms/step - loss: 3.5320 - accuracy: 0.1328 - val_loss: 3.0685 - val_accuracy: 0.1813\n",
      "Epoch 3/32\n",
      "20/20 [==============================] - 10s 507ms/step - loss: 3.2218 - accuracy: 0.1984 - val_loss: 2.8352 - val_accuracy: 0.3938\n",
      "Epoch 4/32\n",
      "20/20 [==============================] - 9s 453ms/step - loss: 2.8084 - accuracy: 0.2750 - val_loss: 2.4102 - val_accuracy: 0.4750\n",
      "Epoch 5/32\n",
      "20/20 [==============================] - 8s 418ms/step - loss: 2.6346 - accuracy: 0.3141 - val_loss: 2.0730 - val_accuracy: 0.4875\n",
      "Epoch 6/32\n",
      "20/20 [==============================] - 8s 400ms/step - loss: 2.3170 - accuracy: 0.4016 - val_loss: 1.7551 - val_accuracy: 0.6375\n",
      "Epoch 7/32\n",
      "20/20 [==============================] - 9s 433ms/step - loss: 2.0715 - accuracy: 0.4516 - val_loss: 1.4325 - val_accuracy: 0.6562\n",
      "Epoch 8/32\n",
      "20/20 [==============================] - 9s 429ms/step - loss: 1.8632 - accuracy: 0.4797 - val_loss: 1.3992 - val_accuracy: 0.6313\n",
      "Epoch 9/32\n",
      "20/20 [==============================] - 8s 423ms/step - loss: 1.7942 - accuracy: 0.5297 - val_loss: 1.3264 - val_accuracy: 0.6562\n",
      "Epoch 10/32\n",
      "20/20 [==============================] - 9s 440ms/step - loss: 1.6183 - accuracy: 0.5578 - val_loss: 0.9942 - val_accuracy: 0.7875\n",
      "Epoch 11/32\n",
      "20/20 [==============================] - 8s 415ms/step - loss: 1.5857 - accuracy: 0.5422 - val_loss: 0.8487 - val_accuracy: 0.7937\n",
      "Epoch 12/32\n",
      "20/20 [==============================] - 10s 494ms/step - loss: 1.3868 - accuracy: 0.6281 - val_loss: 0.7866 - val_accuracy: 0.8625\n",
      "Epoch 13/32\n",
      "20/20 [==============================] - 9s 431ms/step - loss: 1.3336 - accuracy: 0.6219 - val_loss: 0.7649 - val_accuracy: 0.8125\n",
      "Epoch 14/32\n",
      "20/20 [==============================] - 8s 408ms/step - loss: 1.2348 - accuracy: 0.6656 - val_loss: 0.7951 - val_accuracy: 0.8188\n",
      "Epoch 15/32\n",
      "20/20 [==============================] - 8s 405ms/step - loss: 1.2333 - accuracy: 0.6422 - val_loss: 0.8331 - val_accuracy: 0.7750\n",
      "Epoch 16/32\n",
      "20/20 [==============================] - 8s 423ms/step - loss: 1.0819 - accuracy: 0.6844 - val_loss: 0.5945 - val_accuracy: 0.8500\n",
      "Epoch 17/32\n",
      "20/20 [==============================] - 8s 403ms/step - loss: 1.0730 - accuracy: 0.6875 - val_loss: 0.7334 - val_accuracy: 0.8062\n",
      "Epoch 18/32\n",
      "20/20 [==============================] - 9s 446ms/step - loss: 0.9753 - accuracy: 0.7156 - val_loss: 0.6702 - val_accuracy: 0.8188\n",
      "Epoch 19/32\n",
      "20/20 [==============================] - 9s 457ms/step - loss: 0.9727 - accuracy: 0.7031 - val_loss: 0.6622 - val_accuracy: 0.8250\n",
      "Epoch 20/32\n",
      "20/20 [==============================] - 9s 437ms/step - loss: 0.9234 - accuracy: 0.7406 - val_loss: 0.5259 - val_accuracy: 0.8875\n",
      "Epoch 21/32\n",
      "20/20 [==============================] - 11s 531ms/step - loss: 0.9677 - accuracy: 0.7312 - val_loss: 0.5378 - val_accuracy: 0.8625\n",
      "Epoch 22/32\n",
      "20/20 [==============================] - 9s 439ms/step - loss: 0.8748 - accuracy: 0.7391 - val_loss: 0.3941 - val_accuracy: 0.8938\n",
      "Epoch 23/32\n",
      "20/20 [==============================] - 8s 426ms/step - loss: 0.9166 - accuracy: 0.7469 - val_loss: 0.5205 - val_accuracy: 0.8687\n",
      "Epoch 24/32\n",
      "20/20 [==============================] - 8s 412ms/step - loss: 0.7781 - accuracy: 0.7812 - val_loss: 0.3755 - val_accuracy: 0.9187\n",
      "Epoch 25/32\n",
      "20/20 [==============================] - 8s 410ms/step - loss: 0.8633 - accuracy: 0.7406 - val_loss: 0.4956 - val_accuracy: 0.8687\n",
      "Epoch 26/32\n",
      "20/20 [==============================] - 8s 413ms/step - loss: 0.7577 - accuracy: 0.7750 - val_loss: 0.3433 - val_accuracy: 0.9062\n",
      "Epoch 27/32\n",
      "20/20 [==============================] - 8s 410ms/step - loss: 0.7188 - accuracy: 0.8047 - val_loss: 0.3786 - val_accuracy: 0.8938\n",
      "Epoch 28/32\n",
      "20/20 [==============================] - 8s 395ms/step - loss: 0.7419 - accuracy: 0.7797 - val_loss: 0.3506 - val_accuracy: 0.9250\n",
      "Epoch 29/32\n",
      "20/20 [==============================] - 8s 399ms/step - loss: 0.7092 - accuracy: 0.8016 - val_loss: 0.3982 - val_accuracy: 0.8687\n",
      "Epoch 30/32\n",
      "20/20 [==============================] - 8s 404ms/step - loss: 0.7290 - accuracy: 0.7875 - val_loss: 0.3649 - val_accuracy: 0.9125\n",
      "Epoch 31/32\n",
      "20/20 [==============================] - 8s 400ms/step - loss: 0.6849 - accuracy: 0.7891 - val_loss: 0.3985 - val_accuracy: 0.8813\n",
      "Epoch 32/32\n",
      "20/20 [==============================] - 8s 409ms/step - loss: 0.6998 - accuracy: 0.8031 - val_loss: 0.2774 - val_accuracy: 0.9000\n"
     ]
    }
   ],
   "source": [
    "## train the model wuth data (including augmentaion datagen)\n",
    "batch_size = 128\n",
    "nb_epoch = 32\n",
    "\n",
    "# generate data with datagen\n",
    "datagen.fit(X_train)\n",
    "# fits the model on batches with real-time data augmentation:\n",
    "train_history = model.fit(datagen.flow(X_train, Y_train, batch_size=32, subset='training'),\n",
    "         validation_data=datagen.flow(X_train, Y_train, batch_size=8, subset='validation'),\n",
    "         batch_size=batch_size, epochs=nb_epoch, verbose=1)\n"
   ]
  },
  {
   "cell_type": "code",
   "execution_count": 341,
   "metadata": {},
   "outputs": [
    {
     "data": {
      "image/png": "[encoded data removed]",
      "text/plain": [
       "<Figure size 1296x288 with 2 Axes>"
      ]
     },
     "metadata": {
      "needs_background": "light"
     },
     "output_type": "display_data"
    }
   ],
   "source": [
    "plt.figure(figsize=(18,4))\n",
    "plt.subplot(1, 2, 1)\n",
    "plt.suptitle('Optimizer : RMSprop', fontsize=12)\n",
    "plt.ylabel('Accuracy', fontsize=20)\n",
    "plt.plot(train_history.history['accuracy'], color='b', label='Training Accuracy')\n",
    "plt.plot(train_history.history['val_accuracy'], color='r', label='Validation Accuracy')\n",
    "plt.legend(loc='lower right')\n",
    "plt.subplot(1, 2, 2)\n",
    "plt.ylabel('Loss', fontsize=20)\n",
    "plt.plot(train_history.history['loss'], color='b', label='Training Loss')\n",
    "plt.plot(train_history.history['val_loss'], color='r', label='Validation Loss')\n",
    "plt.legend(loc='upper right')\n",
    "plt.show()"
   ]
  },
  {
   "cell_type": "markdown",
   "metadata": {},
   "source": [
    "# Model Evaluation\n",
    "evaluate the model with test data"
   ]
  },
  {
   "cell_type": "code",
   "execution_count": 342,
   "metadata": {},
   "outputs": [
    {
     "name": "stdout",
     "output_type": "stream",
     "text": [
      "7/7 [==============================] - 1s 76ms/step - loss: 0.0351 - accuracy: 0.9950\n",
      "Test score: 0.03514285013079643\n",
      "Test accuracy: 0.9950000047683716\n"
     ]
    }
   ],
   "source": [
    "score = model.evaluate(X_test, Y_test, verbose=1)\n",
    "print('Test score:', score[0])\n",
    "print('Test accuracy:', score[1])"
   ]
  },
  {
   "cell_type": "code",
   "execution_count": 350,
   "metadata": {},
   "outputs": [
    {
     "name": "stdout",
     "output_type": "stream",
     "text": [
      "{0: 'me', 1: 'ra', 2: 'ku', 3: 'se', 4: 'tsu', 5: 'ru', 6: 'mu', 7: 'wo', 8: 'yu', 9: 'te', 10: 'ro', 11: 'so', 12: 'sa', 13: 'ha', 14: 'a', 15: 'to', 16: 'chi', 17: 'ba', 18: 'ji', 19: 'ta', 20: 'nu', 21: 'n', 22: 'ne', 23: 'mi', 24: 'da', 25: 'i', 26: 'yo', 27: 're', 28: 'wa', 29: 'e', 30: 'ko', 31: 'ki', 32: 'fu', 33: 'pi', 34: 'shi', 35: 'mo', 36: 'ya', 37: 'no', 38: 'u', 39: 'ni', 40: 'ka', 41: 'ma', 42: 'o', 43: 'na', 44: 'hi', 45: 'ho', 46: 'ri', 47: 'ke', 48: 'su', 49: 'he'}\n",
      "200\n"
     ]
    },
    {
     "name": "stderr",
     "output_type": "stream",
     "text": [
      "<ipython-input-350-0f13003d974a>:15: MatplotlibDeprecationWarning: Passing non-integers as three-element position specification is deprecated since 3.3 and will be removed two minor releases later.\n",
      "  ax = plt.subplot(num_test/num_eachrow, num_eachrow, i+1)\n"
     ]
    },
    {
     "data": {
      "image/png": "[encoded data removed]",
      "text/plain": [
       "<Figure size 432x288 with 20 Axes>"
      ]
     },
     "metadata": {
      "needs_background": "light"
     },
     "output_type": "display_data"
    },
    {
     "name": "stdout",
     "output_type": "stream",
     "text": [
      "[19 24 33 25 45  5 31 11 19 19 14 46 12 21  1  8 18 43 11 48 38 23 20 11\n",
      " 45 43 49 39 25 18 36  2 43  3 46 38 45 39 42  6 27 41 10 24 15 17 35 22\n",
      "  5 23 38 30  1 31 49  9  5 42 37 26 11  6 29 48  4 48 23 24  8  0 17 47\n",
      " 37 42 14 12 28 12 16 14 33 38 18 33 38 12 29 19 39 13  7 15 42 24 10 38\n",
      " 11 30 19 42 28 25 27 13 19 15  2 15  0 20 43 24  1 31 32 40 21  7 45 16\n",
      "  1 31  9 20  7 46 36 25 37 11  9 25  9  5 41  4 44 36  0  7 49 15 15 23\n",
      " 28 18  9 39 16  8 21 15 23 16 34 10 35 13 32 25 20  1  0 26 34  9  2  3\n",
      " 49 15 15 49 36 40 36 25 41  1 21  8 32 30 48 26  2 48 27 12 24 29 17 23\n",
      "  9 46 22  5  9 48 44 24]\n",
      "[19 24 33 25 45  5 31 11 19 19 14 46 12 21  1  8 18 43 11 48 38 23 20 11\n",
      " 45 43 49 39 25 18 36  2 43  3 46 38 45 39 42  6 27 41 10 24 15 17 35 22\n",
      "  5 23 38 30  1 31 49  9 10 42 37 26 11  6 29 48  4 48 23 24  8  0 17 47\n",
      " 37 42 14 12 28 12 16 14 33 38 18 33 38 12 29 19 39 13  7 15 42 24 10 38\n",
      " 11 30 19 42 28 25 27 13 19 15  2 15  0 20 43 24  1 31 32 40 21  7 45 16\n",
      "  1 31  9 20  7 46 36 25 37 11  9 25  9  5 41  4 44 36  0  7 49 15 15 23\n",
      " 28 18  9 39 16  8 21 15 23 16 34 10 35 13 32 25 20  1  0 26 34  9  2  3\n",
      " 49 15 15 49 36 40 36 25 41  1 21  8 32 30 48 26  2 48 27 12 24 29 17 23\n",
      "  9 46 22  5  9 48 44 24]\n",
      "[56]\n",
      "Number of errors = 1/200\n"
     ]
    },
    {
     "data": {
      "image/png": "[encoded data removed]",
      "text/plain": [
       "<Figure size 432x288 with 1 Axes>"
      ]
     },
     "metadata": {
      "needs_background": "light"
     },
     "output_type": "display_data"
    }
   ],
   "source": [
    "inv_romanji_dict = dict((v,k) for k,v in romanji_dict.items())\n",
    "\n",
    "print(inv_romanji_dict)\n",
    "\n",
    "nVal=X_test.shape[0]\n",
    "print(nVal)\n",
    "prob = model.predict(X_test)\n",
    "# print(prob)\n",
    "predictions=np.argmax(prob,axis=1)\n",
    "\n",
    "# ax = plt.subplot(3, 4, i+1)\n",
    "num_test = 20\n",
    "num_eachrow = 5\n",
    "for i in range(num_test):\n",
    "    ax = plt.subplot(num_test/num_eachrow, num_eachrow, i+1)\n",
    "    plt.title(inv_romanji_dict[predictions[i]])\n",
    "    plt.imshow(X_test[i])\n",
    "# plt.tight_layout()\n",
    "plt.show()\n",
    "# for X, prediction in zip(X_test, predictions):\n",
    "#     plt.title(inv_romanji_dict[prediction])\n",
    "#     plt.imshow(X)\n",
    "#     plt.show()\n",
    "print(predictions)\n",
    "ground_truth=y_test\n",
    "print(ground_truth)\n",
    "#ground_truth=np.argmax(y_test[:],axis=1)\n",
    "errors = np.where(predictions != ground_truth)[0]\n",
    "print(errors)\n",
    "print(\"Number of errors = {}/{}\".format(len(errors),nVal))\n",
    "for error in errors:\n",
    "    plt.title(f\"predicted: {inv_romanji_dict[predictions[error]]}, answer: {inv_romanji_dict[y_test[error]]}\")\n",
    "    plt.imshow(X_test[error])\n",
    "    plt.show()"
   ]
  },
  {
   "cell_type": "code",
   "execution_count": 348,
   "metadata": {},
   "outputs": [],
   "source": [
    "from keras.models import load_model\n",
    "# creates a HDF5 file\n",
    "model.save('model_hiragana_recognition_cnn.h5') \n"
   ]
  }
 ],
 "metadata": {
  "language_info": {
   "name": "python"
  },
  "orig_nbformat": 4
 },
 "nbformat": 4,
 "nbformat_minor": 2
}
